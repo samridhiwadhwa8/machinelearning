{
  "nbformat": 4,
  "nbformat_minor": 0,
  "metadata": {
    "colab": {
      "provenance": []
    },
    "kernelspec": {
      "name": "python3",
      "display_name": "Python 3"
    },
    "language_info": {
      "name": "python"
    }
  },
  "cells": [
    {
      "cell_type": "markdown",
      "source": [
        "if else statement"
      ],
      "metadata": {
        "id": "yy_f2LVohynl"
      }
    },
    {
      "cell_type": "code",
      "source": [
        "a = 30\n",
        "b = 50\n",
        "\n",
        "if(a>b):\n",
        "  print('a is the greatest number')\n",
        "else:\n",
        "  print('b is the greatest number')"
      ],
      "metadata": {
        "colab": {
          "base_uri": "https://localhost:8080/"
        },
        "id": "aFYvtUGwh3n6",
        "outputId": "9ed0a000-5f2d-48e6-deba-c172aeb8aeeb"
      },
      "execution_count": 1,
      "outputs": [
        {
          "output_type": "stream",
          "name": "stdout",
          "text": [
            "b is the greatest number\n"
          ]
        }
      ]
    },
    {
      "cell_type": "code",
      "source": [
        "a = int(input('Enter the first number : '))\n",
        "b = int(input('Enter the second number : '))\n",
        "\n",
        "if (a>b):\n",
        "  print('First number is the greatest')\n",
        "else:\n",
        "  print('Second number is the greatest')"
      ],
      "metadata": {
        "colab": {
          "base_uri": "https://localhost:8080/"
        },
        "id": "ffvkxQHuiGSU",
        "outputId": "31d425b1-8055-4df8-9003-9fed72bc75d2"
      },
      "execution_count": 2,
      "outputs": [
        {
          "output_type": "stream",
          "name": "stdout",
          "text": [
            "Enter the first number : 12\n",
            "Enter the second number : 13\n",
            "Second number is the greatest\n"
          ]
        }
      ]
    },
    {
      "cell_type": "markdown",
      "source": [
        "if elif else statements\n",
        "\n"
      ],
      "metadata": {
        "id": "Vpjep5zyiskO"
      }
    },
    {
      "cell_type": "code",
      "source": [
        "a =15\n",
        "b=25\n",
        "c=30\n",
        "if(b<a>c):\n",
        "  print('a is the greatest')\n",
        "elif(a<b>c):\n",
        "    print('b is the greatest')\n",
        "else:\n",
        "  print('c is the greatest')"
      ],
      "metadata": {
        "colab": {
          "base_uri": "https://localhost:8080/"
        },
        "id": "4QQrfrJ_iv33",
        "outputId": "206c97a5-b2cf-4c76-924b-6033da1b9389"
      },
      "execution_count": 3,
      "outputs": [
        {
          "output_type": "stream",
          "name": "stdout",
          "text": [
            "c is the greatest\n"
          ]
        }
      ]
    },
    {
      "cell_type": "markdown",
      "source": [
        "nested if statements\n"
      ],
      "metadata": {
        "id": "OfaOgxvqjPLi"
      }
    },
    {
      "cell_type": "code",
      "source": [
        "a=20\n",
        "b=40\n",
        "c=60\n",
        "if(a>b):\n",
        "  if(a>c):\n",
        "    print('a is greater than rest')\n",
        "  else:\n",
        "    print('c is greater than the rest')\n",
        "else:\n",
        "  if(b>c):\n",
        "    print('b is greater than the rest')\n",
        "  else:\n",
        "    print('c is greater than the rest')"
      ],
      "metadata": {
        "colab": {
          "base_uri": "https://localhost:8080/"
        },
        "id": "60Kryo1RjSho",
        "outputId": "8c12e681-cfec-498d-808d-d7318e9a6b20"
      },
      "execution_count": 4,
      "outputs": [
        {
          "output_type": "stream",
          "name": "stdout",
          "text": [
            "c is greater than the rest\n"
          ]
        }
      ]
    },
    {
      "cell_type": "markdown",
      "source": [
        "for loops"
      ],
      "metadata": {
        "id": "nBl7uVufkXbV"
      }
    },
    {
      "cell_type": "code",
      "source": [
        "laptop1 = int(input('Enter the price of the laptop : '))\n",
        "laptop2 = int(input('Enter the price of the laptop : '))\n",
        "laptop3 = int(input('Enter the price of the laptop : '))\n",
        "laptop4 = int(input('Enter the price of the laptop : '))\n",
        "laptop5 = int(input('Enter the price of the laptop : '))"
      ],
      "metadata": {
        "colab": {
          "base_uri": "https://localhost:8080/"
        },
        "id": "ZK1p9DHVkZMG",
        "outputId": "42c4bbb8-651d-4ee2-990f-4d70e2e34b92"
      },
      "execution_count": 5,
      "outputs": [
        {
          "name": "stdout",
          "output_type": "stream",
          "text": [
            "Enter the price of the laptop : 13\n",
            "Enter the price of the laptop : 23\n",
            "Enter the price of the laptop : 234\n",
            "Enter the price of the laptop : 23\n",
            "Enter the price of the laptop : 21\n"
          ]
        }
      ]
    },
    {
      "cell_type": "markdown",
      "source": [
        "instead of this approach we could simply use the concept of loops"
      ],
      "metadata": {
        "id": "gkaxkpOAkx_U"
      }
    },
    {
      "cell_type": "code",
      "source": [
        "for i in range(7):\n",
        "  laptop_price= int(input(\"enter the price of the laptop: \"))"
      ],
      "metadata": {
        "colab": {
          "base_uri": "https://localhost:8080/"
        },
        "id": "iaiqK61Uk3Vi",
        "outputId": "8e9f01a9-ee29-4bdb-f4bb-086ced80c44b"
      },
      "execution_count": 7,
      "outputs": [
        {
          "name": "stdout",
          "output_type": "stream",
          "text": [
            "enter the price of the laptop: 344\n",
            "enter the price of the laptop: 355\n",
            "enter the price of the laptop: 644\n",
            "enter the price of the laptop: 664\n",
            "enter the price of the laptop: 464\n",
            "enter the price of the laptop: 46443\n",
            "enter the price of the laptop: 33\n"
          ]
        }
      ]
    },
    {
      "cell_type": "code",
      "source": [
        "numbers = [50, 100, 150, 200]\n",
        "\n",
        "for i in numbers:\n",
        "  print(i)\n"
      ],
      "metadata": {
        "colab": {
          "base_uri": "https://localhost:8080/"
        },
        "id": "rjsj6svmlGqz",
        "outputId": "06f88ab2-339d-4838-ed7d-5b3e5f277436"
      },
      "execution_count": 8,
      "outputs": [
        {
          "output_type": "stream",
          "name": "stdout",
          "text": [
            "50\n",
            "100\n",
            "150\n",
            "200\n"
          ]
        }
      ]
    },
    {
      "cell_type": "code",
      "source": [
        "i = 0\n",
        "\n",
        "while i<10:\n",
        "  print(i)\n",
        "  i += 1"
      ],
      "metadata": {
        "colab": {
          "base_uri": "https://localhost:8080/"
        },
        "id": "BIPNGIW-laeY",
        "outputId": "da7baa30-89ac-439c-b9de-a74d7570aebc"
      },
      "execution_count": 9,
      "outputs": [
        {
          "output_type": "stream",
          "name": "stdout",
          "text": [
            "0\n",
            "1\n",
            "2\n",
            "3\n",
            "4\n",
            "5\n",
            "6\n",
            "7\n",
            "8\n",
            "9\n"
          ]
        }
      ]
    },
    {
      "cell_type": "code",
      "source": [
        "i = 5\n",
        "\n",
        "while i<3:\n",
        "  print(i)\n",
        "  i +=1"
      ],
      "metadata": {
        "id": "_KdxO1Ntldwn"
      },
      "execution_count": 11,
      "outputs": []
    }
  ]
}