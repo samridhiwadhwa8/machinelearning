{
  "nbformat": 4,
  "nbformat_minor": 0,
  "metadata": {
    "colab": {
      "provenance": []
    },
    "kernelspec": {
      "name": "python3",
      "display_name": "Python 3"
    },
    "language_info": {
      "name": "python"
    }
  },
  "cells": [
    {
      "cell_type": "markdown",
      "source": [
        "# functions in python\n",
        "block of code that can be reused in a program\n",
        "\n"
      ],
      "metadata": {
        "id": "gT7NGuB9mOQe"
      }
    },
    {
      "cell_type": "markdown",
      "source": [
        "Factorial of a number"
      ],
      "metadata": {
        "id": "ON5dnghtoOA7"
      }
    },
    {
      "cell_type": "code",
      "source": [
        "n=int(input(\"enter a number to find its factorial\"))\n",
        "factorial =1\n",
        "if n==0:\n",
        "  print('the factorial of 0 is 1')\n",
        "else:\n",
        "  for i in range(1,n+1):\n",
        "    factorial = factorial *i\n",
        "  print(factorial)"
      ],
      "metadata": {
        "colab": {
          "base_uri": "https://localhost:8080/"
        },
        "id": "6JaVElhxoT1a",
        "outputId": "abfc85b0-f070-4e35-a74a-b6fc17975c94"
      },
      "execution_count": 4,
      "outputs": [
        {
          "output_type": "stream",
          "name": "stdout",
          "text": [
            "enter a number to find its factorial5\n",
            "120\n"
          ]
        }
      ]
    },
    {
      "cell_type": "markdown",
      "source": [
        "factorial function\n"
      ],
      "metadata": {
        "id": "TCAZcobAo7GC"
      }
    },
    {
      "cell_type": "code",
      "source": [
        "def fact(num):\n",
        "  f =1\n",
        "  if(num == 0):\n",
        "    return f\n",
        "  else:\n",
        "    for i in range(1,num+1):\n",
        "      f=f*i\n",
        "    return f\n",
        "\n",
        "n=int(input('enter the number'))\n",
        "fact(n)"
      ],
      "metadata": {
        "colab": {
          "base_uri": "https://localhost:8080/"
        },
        "id": "DyUpa1v5pAF3",
        "outputId": "5fe0fc9f-4e30-491f-831a-65164acfc6b7"
      },
      "execution_count": 5,
      "outputs": [
        {
          "name": "stdout",
          "output_type": "stream",
          "text": [
            "enter the number12\n"
          ]
        },
        {
          "output_type": "execute_result",
          "data": {
            "text/plain": [
              "479001600"
            ]
          },
          "metadata": {},
          "execution_count": 5
        }
      ]
    },
    {
      "cell_type": "code",
      "source": [
        "print(fact(2))"
      ],
      "metadata": {
        "colab": {
          "base_uri": "https://localhost:8080/"
        },
        "id": "4-JZ5esjpUbd",
        "outputId": "af1dc49e-4ca9-46a6-b295-c234377188d7"
      },
      "execution_count": 6,
      "outputs": [
        {
          "output_type": "stream",
          "name": "stdout",
          "text": [
            "2\n"
          ]
        }
      ]
    },
    {
      "cell_type": "code",
      "source": [
        "print(fact(5))"
      ],
      "metadata": {
        "colab": {
          "base_uri": "https://localhost:8080/"
        },
        "id": "KNXoXoxUpXWX",
        "outputId": "7249482a-4fab-4340-8417-7cc9f3263507"
      },
      "execution_count": 7,
      "outputs": [
        {
          "output_type": "stream",
          "name": "stdout",
          "text": [
            "120\n"
          ]
        }
      ]
    }
  ]
}