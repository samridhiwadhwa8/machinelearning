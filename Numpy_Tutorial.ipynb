{
  "nbformat": 4,
  "nbformat_minor": 0,
  "metadata": {
    "colab": {
      "provenance": []
    },
    "kernelspec": {
      "name": "python3",
      "display_name": "Python 3"
    },
    "language_info": {
      "name": "python"
    }
  },
  "cells": [
    {
      "cell_type": "markdown",
      "source": [
        "# NumPy- numerical python\n",
        "advantages of NumPy:\n",
        "\n",
        "*   allows several mathematical operations   \n",
        "*   faster operations\n",
        "\n"
      ],
      "metadata": {
        "id": "z7UxZuGE46y0"
      }
    },
    {
      "cell_type": "code",
      "source": [
        "#list and tuples are collections of values in int we can only store on value but in list\n",
        "#it can be multiple they both are inbuilt data types of python"
      ],
      "metadata": {
        "id": "fYH2t0IO5PVk"
      },
      "execution_count": null,
      "outputs": []
    },
    {
      "cell_type": "code",
      "source": [
        "import numpy as np"
      ],
      "metadata": {
        "id": "vFV71Z-PZcM1"
      },
      "execution_count": 1,
      "outputs": []
    },
    {
      "cell_type": "markdown",
      "source": [
        "list vs numpy - time taken\n"
      ],
      "metadata": {
        "id": "Ycd9RhmnZ-r0"
      }
    },
    {
      "cell_type": "code",
      "source": [
        "from time import process_time"
      ],
      "metadata": {
        "id": "Wl-QcgPrZh6W"
      },
      "execution_count": 2,
      "outputs": []
    },
    {
      "cell_type": "code",
      "source": [
        "#time taken by a list\n",
        "python_list =[i for i in range(10000)]\n",
        "\n",
        "start_time=process_time()\n",
        "\n",
        "python_list=[i+5 for i in python_list]\n",
        "\n",
        "end_time=process_time()\n",
        "print(end_time-start_time)#the difference will find the number of seconds in which the process will be completed"
      ],
      "metadata": {
        "colab": {
          "base_uri": "https://localhost:8080/"
        },
        "id": "GI8AbAACaO30",
        "outputId": "20a85468-b7ae-4a9f-ef86-6c15d36211a9"
      },
      "execution_count": 3,
      "outputs": [
        {
          "output_type": "stream",
          "name": "stdout",
          "text": [
            "0.0011272590000004357\n"
          ]
        }
      ]
    },
    {
      "cell_type": "code",
      "source": [
        "np_array=np.array([i for i in range(10000)])#time taken for numpy array to complete this process\n",
        "start_time=process_time()\n",
        "np_array=np_array+5 # or np_array+=5\n",
        "end_time=process_time()\n",
        "print(end_time-start_time)"
      ],
      "metadata": {
        "colab": {
          "base_uri": "https://localhost:8080/"
        },
        "id": "4QGUa8xgbdwo",
        "outputId": "319be4cf-f1ae-407f-9479-2180ab5ea891"
      },
      "execution_count": 4,
      "outputs": [
        {
          "output_type": "stream",
          "name": "stdout",
          "text": [
            "0.001393621000000067\n"
          ]
        }
      ]
    },
    {
      "cell_type": "markdown",
      "source": [
        "Numpy Arrays"
      ],
      "metadata": {
        "id": "1a42apOVcHhS"
      }
    },
    {
      "cell_type": "code",
      "source": [
        "#list\n",
        "list1=[1,2,3,4,5]\n",
        "print(list1)#in list elements are seperated by a comma\n",
        "type(list1)"
      ],
      "metadata": {
        "colab": {
          "base_uri": "https://localhost:8080/"
        },
        "id": "vSi5gv10b2B8",
        "outputId": "3bcd28fd-434d-4b5e-dd8a-95fc24ba94ec"
      },
      "execution_count": 5,
      "outputs": [
        {
          "output_type": "stream",
          "name": "stdout",
          "text": [
            "[1, 2, 3, 4, 5]\n"
          ]
        },
        {
          "output_type": "execute_result",
          "data": {
            "text/plain": [
              "list"
            ]
          },
          "metadata": {},
          "execution_count": 5
        }
      ]
    },
    {
      "cell_type": "code",
      "source": [
        "np_array=np.array([1,2,3,4,5])\n",
        "print(np_array) #in array the elements are not seperated by a comma\n",
        "type(np_array) #the type nd represents n dimension array"
      ],
      "metadata": {
        "colab": {
          "base_uri": "https://localhost:8080/"
        },
        "id": "hh_XPV1LcPWj",
        "outputId": "7516ca12-13f3-429f-ae0f-6c7546a65f77"
      },
      "execution_count": 6,
      "outputs": [
        {
          "output_type": "stream",
          "name": "stdout",
          "text": [
            "[1 2 3 4 5]\n"
          ]
        },
        {
          "output_type": "execute_result",
          "data": {
            "text/plain": [
              "numpy.ndarray"
            ]
          },
          "metadata": {},
          "execution_count": 6
        }
      ]
    },
    {
      "cell_type": "code",
      "source": [
        "#creating one dimensional array\n",
        "a=np.array([1,2,3,4])\n",
        "print(a)"
      ],
      "metadata": {
        "colab": {
          "base_uri": "https://localhost:8080/"
        },
        "id": "DFCVb0QGcfP7",
        "outputId": "9d66ba5e-01a7-45f6-cab6-e5efebd6bba2"
      },
      "execution_count": 7,
      "outputs": [
        {
          "output_type": "stream",
          "name": "stdout",
          "text": [
            "[1 2 3 4]\n"
          ]
        }
      ]
    },
    {
      "cell_type": "code",
      "source": [
        "a.shape #only one value i.e. 1d array and the 4 represents the number of columns"
      ],
      "metadata": {
        "colab": {
          "base_uri": "https://localhost:8080/"
        },
        "id": "yTPfig0yfKNb",
        "outputId": "b80d051c-8ccb-4e41-ab38-df538d6f7d65"
      },
      "execution_count": 8,
      "outputs": [
        {
          "output_type": "execute_result",
          "data": {
            "text/plain": [
              "(4,)"
            ]
          },
          "metadata": {},
          "execution_count": 8
        }
      ]
    },
    {
      "cell_type": "code",
      "source": [
        "#two d arrays\n",
        "b=np.array([(1,2,3,4),(5,6,7,8)])\n",
        "print(b)"
      ],
      "metadata": {
        "colab": {
          "base_uri": "https://localhost:8080/"
        },
        "id": "Zuik1pgafRDn",
        "outputId": "1240c35e-472a-4aac-d69c-1dd53207c52d"
      },
      "execution_count": 9,
      "outputs": [
        {
          "output_type": "stream",
          "name": "stdout",
          "text": [
            "[[1 2 3 4]\n",
            " [5 6 7 8]]\n"
          ]
        }
      ]
    },
    {
      "cell_type": "code",
      "source": [
        "b.shape #row by column"
      ],
      "metadata": {
        "colab": {
          "base_uri": "https://localhost:8080/"
        },
        "id": "mV7SoQMEnLz_",
        "outputId": "bd312213-fe12-448a-a23e-6ff4810c9b20"
      },
      "execution_count": 10,
      "outputs": [
        {
          "output_type": "execute_result",
          "data": {
            "text/plain": [
              "(2, 4)"
            ]
          },
          "metadata": {},
          "execution_count": 10
        }
      ]
    },
    {
      "cell_type": "code",
      "source": [
        "c=np.array([(1,2,3,4),(5,6,7,8)],dtype=float) #default value of data type is int"
      ],
      "metadata": {
        "id": "QjjpeoDenOGv"
      },
      "execution_count": 11,
      "outputs": []
    },
    {
      "cell_type": "code",
      "source": [
        "print(c)"
      ],
      "metadata": {
        "colab": {
          "base_uri": "https://localhost:8080/"
        },
        "id": "5qxsHtPJn5AC",
        "outputId": "a2eb1d41-3227-409b-c1b6-a7f704bf52bd"
      },
      "execution_count": 12,
      "outputs": [
        {
          "output_type": "stream",
          "name": "stdout",
          "text": [
            "[[1. 2. 3. 4.]\n",
            " [5. 6. 7. 8.]]\n"
          ]
        }
      ]
    },
    {
      "cell_type": "markdown",
      "source": [
        "Initial placeholders in numpy arrays\n"
      ],
      "metadata": {
        "id": "_Pr8O7WPoY04"
      }
    },
    {
      "cell_type": "code",
      "source": [
        "# create a numpy array of zeroes\n",
        "x=np.zeros((4,5),dtype =int ) #this will print an array of 4 rows and 5 columns\n",
        "print(x)"
      ],
      "metadata": {
        "colab": {
          "base_uri": "https://localhost:8080/"
        },
        "id": "53bA8-UHofDv",
        "outputId": "e63c56d6-32ae-4ca9-f069-fdb466d513eb"
      },
      "execution_count": 16,
      "outputs": [
        {
          "output_type": "stream",
          "name": "stdout",
          "text": [
            "[[0 0 0 0 0]\n",
            " [0 0 0 0 0]\n",
            " [0 0 0 0 0]\n",
            " [0 0 0 0 0]]\n"
          ]
        }
      ]
    },
    {
      "cell_type": "code",
      "source": [
        "#create a numpy array of 1s\n",
        "x=np.ones((4,5),dtype=int)\n",
        "print(x)"
      ],
      "metadata": {
        "colab": {
          "base_uri": "https://localhost:8080/"
        },
        "id": "paUBCyE4o4q6",
        "outputId": "6819d5f1-8e1b-4a1c-bef7-a0f092e6831b"
      },
      "execution_count": 17,
      "outputs": [
        {
          "output_type": "stream",
          "name": "stdout",
          "text": [
            "[[1 1 1 1 1]\n",
            " [1 1 1 1 1]\n",
            " [1 1 1 1 1]\n",
            " [1 1 1 1 1]]\n"
          ]
        }
      ]
    },
    {
      "cell_type": "code",
      "source": [
        "#create an array of particular value\n",
        "z=np.full((4,4),7.8)\n",
        "print(z)"
      ],
      "metadata": {
        "colab": {
          "base_uri": "https://localhost:8080/"
        },
        "id": "ZFVs3pu4pVFa",
        "outputId": "849509bb-6502-4033-b23e-63ef650daa18"
      },
      "execution_count": 18,
      "outputs": [
        {
          "output_type": "stream",
          "name": "stdout",
          "text": [
            "[[7.8 7.8 7.8 7.8]\n",
            " [7.8 7.8 7.8 7.8]\n",
            " [7.8 7.8 7.8 7.8]\n",
            " [7.8 7.8 7.8 7.8]]\n"
          ]
        }
      ]
    },
    {
      "cell_type": "code",
      "source": [
        "#create an identity matrix\n",
        "a = np.eye(3,dtype=int)\n",
        "print(a)"
      ],
      "metadata": {
        "colab": {
          "base_uri": "https://localhost:8080/"
        },
        "id": "bTlcJy8zpxwB",
        "outputId": "f467c3bf-7f1d-433a-9707-45d7fe7e9b3d"
      },
      "execution_count": 23,
      "outputs": [
        {
          "output_type": "stream",
          "name": "stdout",
          "text": [
            "[[1 0 0]\n",
            " [0 1 0]\n",
            " [0 0 1]]\n"
          ]
        }
      ]
    },
    {
      "cell_type": "code",
      "source": [
        "# create a numpy array with random values\n",
        "b=np.random.random((3,4))\n",
        "print(b)"
      ],
      "metadata": {
        "colab": {
          "base_uri": "https://localhost:8080/"
        },
        "id": "hy7EudtmqWDS",
        "outputId": "a77a1fc4-1d00-47c9-c7b6-8b012b817d0d"
      },
      "execution_count": 26,
      "outputs": [
        {
          "output_type": "stream",
          "name": "stdout",
          "text": [
            "[[0.51996578 0.55708272 0.34852191 0.13923596]\n",
            " [0.58074877 0.8891267  0.11434402 0.19000954]\n",
            " [0.29335825 0.29197579 0.31293375 0.06747636]]\n"
          ]
        }
      ]
    },
    {
      "cell_type": "code",
      "source": [
        "#random integer value arrays"
      ],
      "metadata": {
        "id": "PXoJIc0Nq5RK"
      },
      "execution_count": 27,
      "outputs": []
    },
    {
      "cell_type": "code",
      "source": [
        "c=np.random.randint(10,100,(3,4)) #prints a random int value within a specific range between 10 to 100\n",
        "print(c)"
      ],
      "metadata": {
        "colab": {
          "base_uri": "https://localhost:8080/"
        },
        "id": "UJ_9Bkl4vXsX",
        "outputId": "0b63c79e-0749-4700-f401-11bbea1460ab"
      },
      "execution_count": 29,
      "outputs": [
        {
          "output_type": "stream",
          "name": "stdout",
          "text": [
            "[[17 99 67 71]\n",
            " [27 64 28 54]\n",
            " [32 52 54 60]]\n"
          ]
        }
      ]
    },
    {
      "cell_type": "code",
      "source": [
        "#array or evenly spaced values --> specifying the number of values required\n",
        "d = np.linspace(10,30,5,dtype=int)#this will give 5 values between 10 to 30 that is evenly spaced\n",
        "print(d)"
      ],
      "metadata": {
        "colab": {
          "base_uri": "https://localhost:8080/"
        },
        "id": "jfOqbGR0vcqI",
        "outputId": "12574743-f3cb-45b2-ec1f-9ccb7523fdfb"
      },
      "execution_count": 31,
      "outputs": [
        {
          "output_type": "stream",
          "name": "stdout",
          "text": [
            "[10 15 20 25 30]\n"
          ]
        }
      ]
    },
    {
      "cell_type": "code",
      "source": [
        "#arrays of evenly spaced values --> specifying the steps required\n",
        "e =np.arange(10,30,5)#30 will not be included\n",
        "print(e)"
      ],
      "metadata": {
        "colab": {
          "base_uri": "https://localhost:8080/"
        },
        "id": "5zc_joDYv2K7",
        "outputId": "1ea59f28-6b2b-4ec3-c5ae-0a3f19647ce4"
      },
      "execution_count": 37,
      "outputs": [
        {
          "output_type": "stream",
          "name": "stdout",
          "text": [
            "[10 15 20 25]\n"
          ]
        }
      ]
    },
    {
      "cell_type": "code",
      "source": [
        "#convert a list to a numpy array\n",
        "list2=[10,20,30,40,50]\n",
        "np_array=np.asarray(list2)\n",
        "print(np_array)\n",
        "type(np_array)"
      ],
      "metadata": {
        "colab": {
          "base_uri": "https://localhost:8080/"
        },
        "id": "wJRxAROfw3I_",
        "outputId": "247fcadf-4ac8-4113-cf7d-aa8cc7de03a7"
      },
      "execution_count": 39,
      "outputs": [
        {
          "output_type": "stream",
          "name": "stdout",
          "text": [
            "[10 20 30 40 50]\n"
          ]
        },
        {
          "output_type": "execute_result",
          "data": {
            "text/plain": [
              "numpy.ndarray"
            ]
          },
          "metadata": {},
          "execution_count": 39
        }
      ]
    },
    {
      "cell_type": "markdown",
      "source": [
        "Analysing a numpy array"
      ],
      "metadata": {
        "id": "9B1dq511x294"
      }
    },
    {
      "cell_type": "code",
      "source": [
        "c=np.random.randint(10,90,(5,5))\n",
        "print(c)"
      ],
      "metadata": {
        "colab": {
          "base_uri": "https://localhost:8080/"
        },
        "id": "55LIYKCxxhfR",
        "outputId": "01236ee8-a79c-415d-a334-b61e18933479"
      },
      "execution_count": 40,
      "outputs": [
        {
          "output_type": "stream",
          "name": "stdout",
          "text": [
            "[[12 64 15 37 20]\n",
            " [66 23 75 56 39]\n",
            " [46 28 41 38 61]\n",
            " [64 61 48 12 45]\n",
            " [26 44 52 38 17]]\n"
          ]
        }
      ]
    },
    {
      "cell_type": "code",
      "source": [
        "print(c.shape)"
      ],
      "metadata": {
        "colab": {
          "base_uri": "https://localhost:8080/"
        },
        "id": "Lr19BDJjx_fT",
        "outputId": "394c7e80-dc91-47f0-d5f4-6f5519045049"
      },
      "execution_count": 41,
      "outputs": [
        {
          "output_type": "stream",
          "name": "stdout",
          "text": [
            "(5, 5)\n"
          ]
        }
      ]
    },
    {
      "cell_type": "code",
      "source": [
        "#number of dimensions\n",
        "print(c.ndim)"
      ],
      "metadata": {
        "colab": {
          "base_uri": "https://localhost:8080/"
        },
        "id": "VziOKTgxyE76",
        "outputId": "f484399e-a86a-4f5b-bffa-7bbdb1e73498"
      },
      "execution_count": 42,
      "outputs": [
        {
          "output_type": "stream",
          "name": "stdout",
          "text": [
            "2\n"
          ]
        }
      ]
    },
    {
      "cell_type": "code",
      "source": [
        "#number of elements in an array\n",
        "c.size"
      ],
      "metadata": {
        "colab": {
          "base_uri": "https://localhost:8080/"
        },
        "id": "itaiBdjZyJ7u",
        "outputId": "d91c9c6d-13ed-4dd9-8f1d-3688efea6d4a"
      },
      "execution_count": 43,
      "outputs": [
        {
          "output_type": "execute_result",
          "data": {
            "text/plain": [
              "25"
            ]
          },
          "metadata": {},
          "execution_count": 43
        }
      ]
    },
    {
      "cell_type": "code",
      "source": [
        "print(c.dtype)"
      ],
      "metadata": {
        "colab": {
          "base_uri": "https://localhost:8080/"
        },
        "id": "oA0baNR5yRKL",
        "outputId": "a0c89758-278e-48bc-d0e1-aed0aaff0174"
      },
      "execution_count": 45,
      "outputs": [
        {
          "output_type": "stream",
          "name": "stdout",
          "text": [
            "int64\n"
          ]
        }
      ]
    },
    {
      "cell_type": "markdown",
      "source": [
        "mathematical operations on a numpy array\n"
      ],
      "metadata": {
        "id": "3GHCSzAPyg_g"
      }
    },
    {
      "cell_type": "code",
      "source": [
        "list1=[1,2,3,4,5]\n",
        "list2=[6,7,8,9,10]\n",
        "print(list1+list2)#concatenate"
      ],
      "metadata": {
        "colab": {
          "base_uri": "https://localhost:8080/"
        },
        "id": "5UYa5D6qynle",
        "outputId": "a458d3a4-f646-4024-deaf-00252cb70193"
      },
      "execution_count": 46,
      "outputs": [
        {
          "output_type": "stream",
          "name": "stdout",
          "text": [
            "[1, 2, 3, 4, 5, 6, 7, 8, 9, 10]\n"
          ]
        }
      ]
    },
    {
      "cell_type": "code",
      "source": [
        "a=np.random.randint(0,10,(3,3))\n",
        "b=np.random.randint(10,20,(3,3))\n",
        "print(a)\n",
        "print(b)"
      ],
      "metadata": {
        "colab": {
          "base_uri": "https://localhost:8080/"
        },
        "id": "ftQNsVHTyv2_",
        "outputId": "8a807243-af57-4893-8f5f-cf407fa744ae"
      },
      "execution_count": 47,
      "outputs": [
        {
          "output_type": "stream",
          "name": "stdout",
          "text": [
            "[[7 2 8]\n",
            " [6 3 3]\n",
            " [9 9 9]]\n",
            "[[15 16 15]\n",
            " [12 15 17]\n",
            " [18 19 13]]\n"
          ]
        }
      ]
    },
    {
      "cell_type": "markdown",
      "source": [
        "Incase of list if we use + sign it will join or concatenate the two lists but incase of a numpy array it will add the elements"
      ],
      "metadata": {
        "id": "BV5WVg7fzVrR"
      }
    },
    {
      "cell_type": "code",
      "source": [
        "print(a+b) #we can use np.add(a,b) function"
      ],
      "metadata": {
        "colab": {
          "base_uri": "https://localhost:8080/"
        },
        "id": "m79r_6rmzKUv",
        "outputId": "eb0fbdf2-e313-4b61-f084-0291dd9d38e4"
      },
      "execution_count": 48,
      "outputs": [
        {
          "output_type": "stream",
          "name": "stdout",
          "text": [
            "[[22 18 23]\n",
            " [18 18 20]\n",
            " [27 28 22]]\n"
          ]
        }
      ]
    },
    {
      "cell_type": "code",
      "source": [
        "print(a-b) #np.subtract(a,b)\n",
        "print(a*b) #np.multiply(a,b)\n",
        "print(a/b) #np.divide(a,b)"
      ],
      "metadata": {
        "colab": {
          "base_uri": "https://localhost:8080/"
        },
        "id": "0S8DmNO0zNi_",
        "outputId": "1c118600-4774-49ed-b223-89ca50e6bb99"
      },
      "execution_count": 49,
      "outputs": [
        {
          "output_type": "stream",
          "name": "stdout",
          "text": [
            "[[ -8 -14  -7]\n",
            " [ -6 -12 -14]\n",
            " [ -9 -10  -4]]\n",
            "[[105  32 120]\n",
            " [ 72  45  51]\n",
            " [162 171 117]]\n",
            "[[0.46666667 0.125      0.53333333]\n",
            " [0.5        0.2        0.17647059]\n",
            " [0.5        0.47368421 0.69230769]]\n"
          ]
        }
      ]
    },
    {
      "cell_type": "markdown",
      "source": [
        "array manipulation\n"
      ],
      "metadata": {
        "id": "2dGn_nRb0RCk"
      }
    },
    {
      "cell_type": "code",
      "source": [
        "array =np.random.randint(0,10,(2,3))\n",
        "print(array)\n",
        "print(array.shape)"
      ],
      "metadata": {
        "colab": {
          "base_uri": "https://localhost:8080/"
        },
        "id": "ny4JUqlVzxbK",
        "outputId": "1ede7764-59d3-4dbc-c3d2-a5c2ff897e67"
      },
      "execution_count": 51,
      "outputs": [
        {
          "output_type": "stream",
          "name": "stdout",
          "text": [
            "[[5 3 8]\n",
            " [7 6 8]]\n",
            "(2, 3)\n"
          ]
        }
      ]
    },
    {
      "cell_type": "code",
      "source": [
        "#transpose\n",
        "trans=np.transpose(array)\n",
        "print(trans)\n",
        "print(trans.shape)"
      ],
      "metadata": {
        "colab": {
          "base_uri": "https://localhost:8080/"
        },
        "id": "J9PcNny_0afd",
        "outputId": "f4e6885a-05d5-4376-90d9-a4d26e9a815b"
      },
      "execution_count": 52,
      "outputs": [
        {
          "output_type": "stream",
          "name": "stdout",
          "text": [
            "[[5 7]\n",
            " [3 6]\n",
            " [8 8]]\n",
            "(3, 2)\n"
          ]
        }
      ]
    },
    {
      "cell_type": "code",
      "source": [
        "# reshaping an array\n",
        "a=np.random.randint(0,10,(2,3))\n",
        "print(a)\n",
        "print(a.shape)"
      ],
      "metadata": {
        "colab": {
          "base_uri": "https://localhost:8080/"
        },
        "id": "sJSy0dI70oWs",
        "outputId": "2930e12f-3f9a-48c4-88a7-24f529b407ca"
      },
      "execution_count": 53,
      "outputs": [
        {
          "output_type": "stream",
          "name": "stdout",
          "text": [
            "[[9 7 9]\n",
            " [1 7 6]]\n",
            "(2, 3)\n"
          ]
        }
      ]
    },
    {
      "cell_type": "code",
      "source": [
        "b=a.reshape(3,2)\n",
        "print(b)\n",
        "print(b.shape)"
      ],
      "metadata": {
        "colab": {
          "base_uri": "https://localhost:8080/"
        },
        "id": "Cz7ldgW41I4c",
        "outputId": "54a8d68b-8437-450b-a5ca-5fb64beb1cfd"
      },
      "execution_count": 54,
      "outputs": [
        {
          "output_type": "stream",
          "name": "stdout",
          "text": [
            "[[9 7]\n",
            " [9 1]\n",
            " [7 6]]\n",
            "(3, 2)\n"
          ]
        }
      ]
    },
    {
      "cell_type": "code",
      "source": [],
      "metadata": {
        "id": "N8Xdr0u-1QXw"
      },
      "execution_count": null,
      "outputs": []
    }
  ]
}